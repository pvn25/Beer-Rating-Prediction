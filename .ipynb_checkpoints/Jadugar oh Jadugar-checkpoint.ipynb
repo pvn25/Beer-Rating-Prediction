{
 "cells": [
  {
   "cell_type": "code",
   "execution_count": 1,
   "metadata": {
    "collapsed": false,
    "scrolled": true
   },
   "outputs": [],
   "source": [
    "import numpy as np\n",
    "import pylab as plt\n",
    "from scipy.stats.stats import pearsonr\n",
    "import nltk\n",
    "from nltk.tokenize import treebank\n",
    "from nltk.corpus import opinion_lexicon\n",
    "from nltk.corpus import stopwords\n",
    "from sklearn.ensemble import RandomForestRegressor\n",
    "import sys\n",
    "from textblob import TextBlob"
   ]
  },
  {
   "cell_type": "code",
   "execution_count": 2,
   "metadata": {
    "collapsed": true
   },
   "outputs": [],
   "source": [
    "from collections import defaultdict\n",
    "posW = opinion_lexicon.positive()\n",
    "negW = opinion_lexicon.negative()\n",
    "score = defaultdict(int)\n",
    "for w in posW:\n",
    "    score[w] = 1\n",
    "for w in negW:\n",
    "    score[w] = -1"
   ]
  },
  {
   "cell_type": "code",
   "execution_count": 3,
   "metadata": {
    "collapsed": true
   },
   "outputs": [],
   "source": [
    "markers = {\"JJ\" : 0,\"JJR\" : 0,\"JJS\" : 0,\"NN\" : 1,\"NNP\" : 1,\"NNPS\" : 1,\"NNS\" : 1,\"PRP\" : 1,\"PRP$\" : 1,\"RB\" : 2,\n",
    "\"RBR\" : 2,\"RBS\" : 2,\"VB\" : 3,\"VBD\" : 3,\"VBG\" : 3,\"VBN\" : 3,\"VBP\" : 3,\"VBZ\" : 3} "
   ]
  },
  {
   "cell_type": "code",
   "execution_count": 4,
   "metadata": {
    "collapsed": true
   },
   "outputs": [],
   "source": [
    "def get_sentiment(text):\n",
    "    blob = TextBlob(text)\n",
    "    sent=0.0\n",
    "    for sentence in blob.sentences:\n",
    "        sent+=sentence.sentiment.polarity\n",
    "    sent /= len(blob.sentences)\n",
    "    return (sent)"
   ]
  },
  {
   "cell_type": "code",
   "execution_count": 5,
   "metadata": {
    "collapsed": true
   },
   "outputs": [],
   "source": [
    "def get_ari():\n",
    "    pass"
   ]
  },
  {
   "cell_type": "code",
   "execution_count": 6,
   "metadata": {
    "collapsed": false
   },
   "outputs": [],
   "source": [
    "def get_noun_count(tags):\n",
    "    val = 0\n",
    "    for t in tags:\n",
    "        tag = t[1]\n",
    "        if tag in markers.keys():\n",
    "            if tag[0] == 'N':\n",
    "                val += 1\n",
    "    return val"
   ]
  },
  {
   "cell_type": "code",
   "execution_count": 7,
   "metadata": {
    "collapsed": true
   },
   "outputs": [],
   "source": [
    "def get_adj_count(review):\n",
    "    val = 0\n",
    "    for t in tags:\n",
    "        tag = t[1]\n",
    "        if tag in markers.keys():\n",
    "            if tag[0] == 'J':\n",
    "                val += 1\n",
    "    return val"
   ]
  },
  {
   "cell_type": "code",
   "execution_count": 8,
   "metadata": {
    "collapsed": false
   },
   "outputs": [],
   "source": [
    "def get_verb_count(review):\n",
    "    val = 0\n",
    "    for t in tags:\n",
    "        tag = t[1]\n",
    "        if tag in markers.keys():\n",
    "            if tag[0] == 'N':\n",
    "                val += 1\n",
    "    return val"
   ]
  },
  {
   "cell_type": "code",
   "execution_count": 20,
   "metadata": {
    "collapsed": false
   },
   "outputs": [
    {
     "name": "stdout",
     "output_type": "stream",
     "text": [
      "showing info https://raw.githubusercontent.com/nltk/nltk_data/gh-pages/index.xml\n"
     ]
    },
    {
     "data": {
      "text/plain": [
       "True"
      ]
     },
     "execution_count": 20,
     "metadata": {},
     "output_type": "execute_result"
    }
   ],
   "source": [
    "nltk.download()"
   ]
  },
  {
   "cell_type": "code",
   "execution_count": 25,
   "metadata": {
    "collapsed": false
   },
   "outputs": [
    {
     "ename": "ImportError",
     "evalue": "No module named stop_words",
     "output_type": "error",
     "traceback": [
      "\u001b[1;31m---------------------------------------------------------------------------\u001b[0m",
      "\u001b[1;31mImportError\u001b[0m                               Traceback (most recent call last)",
      "\u001b[1;32m<ipython-input-25-9583d85dfbab>\u001b[0m in \u001b[0;36m<module>\u001b[1;34m()\u001b[0m\n\u001b[0;32m      1\u001b[0m \u001b[1;32mfrom\u001b[0m \u001b[0mnltk\u001b[0m\u001b[1;33m.\u001b[0m\u001b[0mtokenize\u001b[0m \u001b[1;32mimport\u001b[0m \u001b[0mRegexpTokenizer\u001b[0m\u001b[1;33m\u001b[0m\u001b[0m\n\u001b[1;32m----> 2\u001b[1;33m \u001b[1;32mfrom\u001b[0m \u001b[0mstop_words\u001b[0m \u001b[1;32mimport\u001b[0m \u001b[0mget_stop_words\u001b[0m\u001b[1;33m\u001b[0m\u001b[0m\n\u001b[0m\u001b[0;32m      3\u001b[0m \u001b[1;32mfrom\u001b[0m \u001b[0mnltk\u001b[0m\u001b[1;33m.\u001b[0m\u001b[0mstem\u001b[0m\u001b[1;33m.\u001b[0m\u001b[0mporter\u001b[0m \u001b[1;32mimport\u001b[0m \u001b[0mPorterStemmer\u001b[0m\u001b[1;33m\u001b[0m\u001b[0m\n\u001b[0;32m      4\u001b[0m \u001b[1;32mfrom\u001b[0m \u001b[0mgensim\u001b[0m \u001b[1;32mimport\u001b[0m \u001b[0mcorpora\u001b[0m\u001b[1;33m,\u001b[0m \u001b[0mmodels\u001b[0m\u001b[1;33m\u001b[0m\u001b[0m\n\u001b[0;32m      5\u001b[0m \u001b[1;33m\u001b[0m\u001b[0m\n",
      "\u001b[1;31mImportError\u001b[0m: No module named stop_words"
     ]
    }
   ],
   "source": [
    "from nltk.tokenize import RegexpTokenizer\n",
    "from stop_words import get_stop_words\n",
    "from nltk.stem.porter import PorterStemmer\n",
    "from gensim import corpora, models\n",
    "\n",
    "def do_LDA(file):\n",
    "    reviews = []\n",
    "    tokenizer = RegexpTokenizer(r'\\w+')\n",
    "    en_stop = get_stop_words('en')\n",
    "    p_stemmer  = PorterStemmer()\n",
    "    i = 0\n",
    "    for l in file:\n",
    "        if i == 3000:\n",
    "            break\n",
    "        else:\n",
    "            i += 1\n",
    "            \n",
    "        tokens = tokenizer.tokenize(l['text'].lower())\n",
    "        stopped_tokens = [i for i in tokens if i not in en_stop ]\n",
    "        p_stemmer = PorterStemmer()\n",
    "        tokens = [p_stemmer.stem(i) for i in stopped_tokens]\n",
    "        reviews.append(tokens)\n",
    "        \n",
    "    dictionary = corpora.Dictionary(reviews)\n",
    "    \n",
    "    corpus = [dictionary.doc2bow(text) for text in reviews]\n",
    "    \n",
    "#     ldamodel = gensim.models.ldamodel.LdaModel(corpus, num_topics = 3,\\\n",
    "#                                     id2word = dictionary, passes = 5)\n",
    "    lda = LatentDirichletAllocation(n_topics=10, max_iter = 5)\n",
    "    lda.fit(corpus)\n",
    "    return lda"
   ]
  },
  {
   "cell_type": "markdown",
   "metadata": {},
   "source": [
    "#### Make datasets here"
   ]
  },
  {
   "cell_type": "code",
   "execution_count": 14,
   "metadata": {
    "collapsed": false,
    "scrolled": false
   },
   "outputs": [],
   "source": [
    "file = open('reviews.json')\n",
    "dataset = []\n",
    "lenVsRating = {}\n",
    "\n",
    "i = 0\n",
    "for l in file:\n",
    "    i = i+1\n",
    "    line = eval(l)\n",
    "    review = line['text']\n",
    "    \n",
    "    if i >= 10000:\n",
    "        break\n",
    "    \n",
    "    try:\n",
    "        tokens = nltk.word_tokenize(review.lower())\n",
    "        text = nltk.Text(tokens)\n",
    "        tags = nltk.pos_tag(text)\n",
    "        \n",
    "        # Features are nouns, length, sentiment, ratingz\n",
    "        vec = [1]\n",
    "        vec.append(get_verb_count(tags))\n",
    "        vec.append(get_adj_count(tags))\n",
    "        vec.append(len(review))\n",
    "        vec.append(get_sentiment(review))\n",
    "        vec.append(line['stars'])\n",
    "        dataset.append(vec)\n",
    " \n",
    "        \n",
    "    except UnicodeDecodeError:\n",
    "        continue"
   ]
  },
  {
   "cell_type": "code",
   "execution_count": 15,
   "metadata": {
    "collapsed": true
   },
   "outputs": [],
   "source": [
    "dataset = np.array(dataset)\n"
   ]
  },
  {
   "cell_type": "code",
   "execution_count": null,
   "metadata": {
    "collapsed": true
   },
   "outputs": [],
   "source": []
  },
  {
   "cell_type": "code",
   "execution_count": 16,
   "metadata": {
    "collapsed": false,
    "scrolled": true
   },
   "outputs": [],
   "source": [
    "X = dataset[:, :-1]\n",
    "Y = dataset[:, -1]\n",
    "\n",
    "idxs = np.random.choice(len(X), int(0.2*len(X)))\n",
    "n_idx = [i for i in range(len(X)) if i not in idxs]\n",
    "\n",
    "trainX = X[idxs]\n",
    "trainY = Y[idxs]\n",
    "\n",
    "testX  = X[n_idx]\n",
    "testY = Y[n_idx]"
   ]
  },
  {
   "cell_type": "code",
   "execution_count": 17,
   "metadata": {
    "collapsed": false
   },
   "outputs": [
    {
     "name": "stdout",
     "output_type": "stream",
     "text": [
      "3.47431043807 3.53994708995\n"
     ]
    }
   ],
   "source": [
    "print np.mean(trainY), np.mean(testY)"
   ]
  },
  {
   "cell_type": "markdown",
   "metadata": {},
   "source": [
    "#### Train linear regression"
   ]
  },
  {
   "cell_type": "code",
   "execution_count": 18,
   "metadata": {
    "collapsed": false
   },
   "outputs": [
    {
     "name": "stdout",
     "output_type": "stream",
     "text": [
      "0.86917989418\n"
     ]
    }
   ],
   "source": [
    "from sklearn.linear_model import LinearRegression\n",
    "from sklearn.ensemble import RandomForestRegressor, ExtraTreesRegressor\n",
    "from sklearn.svm import SVC\n",
    "\n",
    "rgr = RandomForestRegressor(n_estimators=500, max_depth=5)\n",
    "rgr.fit(trainX, trainY)\n",
    "\n",
    "prediction = rgr.predict(testX)\n",
    "print np.sum(np.abs(np.round(prediction)-testY))/len(testX)"
   ]
  },
  {
   "cell_type": "code",
   "execution_count": null,
   "metadata": {
    "collapsed": true
   },
   "outputs": [],
   "source": []
  },
  {
   "cell_type": "code",
   "execution_count": null,
   "metadata": {
    "collapsed": true
   },
   "outputs": [],
   "source": [
    "nvec = np.array(dataset)\n",
    "\n",
    "kys = lenVsRating.keys()\n",
    "kys = sorted(kys)\n",
    "\n",
    "x = []\n",
    "y = []\n",
    "for ky in kys:\n",
    "    x.append(ky)\n",
    "    y.append(np.round(np.mean(lenVsRating[ky])))\n",
    "\n",
    "\n",
    "plt.scatter(np.array(x)*k, y, s = 150, color = 'navy', marker = '+')\n",
    "plt.xlabel('Number of nouns used')\n",
    "plt.ylabel('Rating')\n",
    "print pearsonr(x, y)\n",
    "plt.show()\n",
    "\n",
    "\n",
    "# Len - -0.6262\n",
    "# Verb - 0.561\n",
    "# Adjective - 0.255\n",
    "# Noun - -0.193\n",
    "# Punctuation - 0.122\n",
    "# Average word length - 0.035\n",
    "# Average sentence length - 0.067\n",
    "# Sentiment analysis - 0.61"
   ]
  }
 ],
 "metadata": {
  "kernelspec": {
   "display_name": "Python [Root]",
   "language": "python",
   "name": "Python [Root]"
  },
  "language_info": {
   "codemirror_mode": {
    "name": "ipython",
    "version": 2
   },
   "file_extension": ".py",
   "mimetype": "text/x-python",
   "name": "python",
   "nbconvert_exporter": "python",
   "pygments_lexer": "ipython2",
   "version": "2.7.12"
  }
 },
 "nbformat": 4,
 "nbformat_minor": 0
}
