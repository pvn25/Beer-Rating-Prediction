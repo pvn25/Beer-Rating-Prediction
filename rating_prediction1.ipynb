{
 "cells": [
  {
   "cell_type": "code",
   "execution_count": 2,
   "metadata": {
    "collapsed": false
   },
   "outputs": [
    {
     "ename": "ImportError",
     "evalue": "No module named textblob",
     "output_type": "error",
     "traceback": [
      "\u001b[1;31m---------------------------------------------------------------------------\u001b[0m",
      "\u001b[1;31mImportError\u001b[0m                               Traceback (most recent call last)",
      "\u001b[1;32m<ipython-input-2-de6874fcb31b>\u001b[0m in \u001b[0;36m<module>\u001b[1;34m()\u001b[0m\n\u001b[0;32m     20\u001b[0m \u001b[1;32mimport\u001b[0m \u001b[0msys\u001b[0m\u001b[1;33m\u001b[0m\u001b[0m\n\u001b[0;32m     21\u001b[0m \u001b[1;31m# sys.path.append('C:\\Python27\\Lib\\site-packages')\u001b[0m\u001b[1;33m\u001b[0m\u001b[1;33m\u001b[0m\u001b[0m\n\u001b[1;32m---> 22\u001b[1;33m \u001b[1;32mfrom\u001b[0m \u001b[0mtextblob\u001b[0m \u001b[1;32mimport\u001b[0m \u001b[0mTextBlob\u001b[0m\u001b[1;33m\u001b[0m\u001b[0m\n\u001b[0m",
      "\u001b[1;31mImportError\u001b[0m: No module named textblob"
     ]
    }
   ],
   "source": [
    "import numpy as np\n",
    "import urllib\n",
    "import scipy.optimize\n",
    "import random\n",
    "import matplotlib.pyplot as plt\n",
    "import sys\n",
    "import collections\n",
    "# from collections import defaultdict\n",
    "import gzip\n",
    "import string\n",
    "import re\n",
    "from sklearn.tree import DecisionTreeRegressor\n",
    "from sklearn.svm import SVR\n",
    "from sklearn import linear_model\n",
    "import nltk\n",
    "from nltk.tokenize import treebank\n",
    "from nltk.corpus import opinion_lexicon\n",
    "from nltk.corpus import stopwords\n",
    "from sklearn.ensemble import RandomForestRegressor\n",
    "import sys\n",
    "# sys.path.append('C:\\Python27\\Lib\\site-packages')\n",
    "from textblob import TextBlob"
   ]
  },
  {
   "cell_type": "code",
   "execution_count": 2,
   "metadata": {
    "collapsed": false
   },
   "outputs": [],
   "source": [
    "def parseData(fname):\n",
    "    print(fname)\n",
    "    for l in open(fname, encoding=\"utf8\"):\n",
    "        yield eval(l)"
   ]
  },
  {
   "cell_type": "code",
   "execution_count": 3,
   "metadata": {
    "collapsed": false
   },
   "outputs": [
    {
     "name": "stdout",
     "output_type": "stream",
     "text": [
      "C:/UCSD/CS_258/Assignment2/reviews.json\n"
     ]
    }
   ],
   "source": [
    "data = list(parseData(\"C:/UCSD/CS_258/Assignment2/reviews.json\"))"
   ]
  },
  {
   "cell_type": "code",
   "execution_count": 4,
   "metadata": {
    "collapsed": false
   },
   "outputs": [
    {
     "name": "stdout",
     "output_type": "stream",
     "text": [
      "{'review_id': 'NxL8SIC5yqOdnlXCg18IBg', 'user_id': 'KpkOkG6RIf4Ra25Lhhxf1A', 'business_id': '2aFiy99vNLklCx3T_tGS9A', 'stars': 5, 'date': '2011-10-10', 'text': \"If you enjoy service by someone who is as competent as he is personable, I would recommend Corey Kaplan highly. The time he has spent here has been very productive and working with him educational and enjoyable. I hope not to need him again (though this is highly unlikely) but knowing he is there if I do is very nice. By the way, I'm not from El Centro, CA. but Scottsdale, AZ.\", 'useful': 0, 'funny': 0, 'cool': 0, 'type': 'review'}\n",
      "100001\n"
     ]
    }
   ],
   "source": [
    "print(data[0])\n",
    "print (len(data))"
   ]
  },
  {
   "cell_type": "code",
   "execution_count": 5,
   "metadata": {
    "collapsed": false
   },
   "outputs": [],
   "source": [
    "dic_rating = {}\n",
    "reviewers_dict = {}\n",
    "for d in data:\n",
    "    if not d['stars'] in dic_rating:\n",
    "        dic_rating[d['stars']] = 1\n",
    "    else:\n",
    "        dic_rating[d['stars']]  += 1 \n",
    "    \n",
    "    if not d['user_id'] in reviewers_dict:\n",
    "        reviewers_dict[d['user_id']] = 1\n",
    "    else:\n",
    "        reviewers_dict[d['user_id']] += 1"
   ]
  },
  {
   "cell_type": "code",
   "execution_count": 6,
   "metadata": {
    "collapsed": false
   },
   "outputs": [
    {
     "name": "stdout",
     "output_type": "stream",
     "text": [
      "Number of Users are:\n",
      "63517\n"
     ]
    }
   ],
   "source": [
    "print(\"Number of Users are:\")\n",
    "print(len(reviewers_dict))"
   ]
  },
  {
   "cell_type": "code",
   "execution_count": 7,
   "metadata": {
    "collapsed": false
   },
   "outputs": [
    {
     "name": "stdout",
     "output_type": "stream",
     "text": [
      "{5: 37319, 4: 24724, 1: 15359, 3: 13822, 2: 8777}\n",
      "OrderedDict([(1, 15359), (2, 8777), (3, 13822), (4, 24724), (5, 37319)])\n"
     ]
    }
   ],
   "source": [
    "print(dic_rating)\n",
    "od = collections.OrderedDict(sorted(dic_rating.items()))\n",
    "print(od)"
   ]
  },
  {
   "cell_type": "code",
   "execution_count": 8,
   "metadata": {
    "collapsed": false
   },
   "outputs": [
    {
     "data": {
      "image/png": "[encoded data removed]",
      "text/plain": [
       "<matplotlib.figure.Figure at 0x15d3d300710>"
      ]
     },
     "metadata": {},
     "output_type": "display_data"
    }
   ],
   "source": [
    "labels = '1', '2', '3', '4','5'\n",
    "sizes = [15359, 8777, 13822, 24724,37319]\n",
    "explode = (0, 0, 0, 0.1,0.1)\n",
    "fig1, ax1 = plt.subplots()\n",
    "ax1.pie(sizes, explode=explode, labels=labels, autopct='%1.1f%%',shadow=True, startangle=90)\n",
    "ax1.axis('equal')\n",
    "plt.savefig('rating_piechart.pdf')\n",
    "plt.show()"
   ]
  },
  {
   "cell_type": "code",
   "execution_count": 9,
   "metadata": {
    "collapsed": false
   },
   "outputs": [
    {
     "data": {
      "image/png": "[encoded data removed]",
      "text/plain": [
       "<matplotlib.figure.Figure at 0x15d3d300128>"
      ]
     },
     "metadata": {},
     "output_type": "display_data"
    }
   ],
   "source": [
    "plt.bar(range(len(od)), od.values(), align='center')\n",
    "plt.xticks(range(len(od)), od.keys())\n",
    "plt.xlabel('Ratings')\n",
    "plt.ylabel('Number of Reviews')\n",
    "plt.savefig('rating_histogram.pdf')\n",
    "plt.show()"
   ]
  },
  {
   "cell_type": "code",
   "execution_count": 10,
   "metadata": {
    "collapsed": false
   },
   "outputs": [
    {
     "name": "stdout",
     "output_type": "stream",
     "text": [
      "359870\n",
      "3.5986640133598664\n"
     ]
    }
   ],
   "source": [
    "sum_rating = 0 \n",
    "for k in dic_rating:\n",
    "    sum_rating += int(k) * dic_rating[k]\n",
    "print(sum_rating)\n",
    "avg = sum_rating/100001\n",
    "print(sum_rating/100001)"
   ]
  },
  {
   "cell_type": "code",
   "execution_count": 11,
   "metadata": {
    "collapsed": true
   },
   "outputs": [],
   "source": [
    "error = 0 \n",
    "for d in data:\n",
    "    error += abs(d['stars'] - avg)"
   ]
  },
  {
   "cell_type": "code",
   "execution_count": 12,
   "metadata": {
    "collapsed": false
   },
   "outputs": [
    {
     "name": "stdout",
     "output_type": "stream",
     "text": [
      "MSE with the baseline is: 1.2443693286883795\n"
     ]
    }
   ],
   "source": [
    "print ('MSE with the baseline is: ' + str(error/100001))"
   ]
  },
  {
   "cell_type": "code",
   "execution_count": 5,
   "metadata": {
    "collapsed": false
   },
   "outputs": [],
   "source": [
    "from collections import defaultdict\n",
    "posW = opinion_lexicon.positive()\n",
    "negW = opinion_lexicon.negative()\n",
    "score = defaultdict(int)\n",
    "for w in posW:\n",
    "    score[w] = 1\n",
    "for w in negW:\n",
    "    score[w] = -1\n",
    "    \n",
    "    \n",
    "def demo_liu_hu_lexicon(sentence):\n",
    "    tokenizer = treebank.TreebankWordTokenizer()\n",
    "    pos_words = 0\n",
    "    neg_words = 0\n",
    "    tokenized_sent = [score[word.lower()] for word in tokenizer.tokenize(sentence) ]\n",
    "    #print tokenized_sent\n",
    "    return sum(tokenized_sent)/(1+1.0*len(tokenized_sent))\n",
    "    #print tokenized_sent\n",
    "    #tokenized_sent = [word for word in tokenized_sent if word not in stopwords.words('english')]\n",
    "    '''\n",
    "    #print len(tokenized_sent)\n",
    "    for word in tokenized_sent:\n",
    "        if word in posW:\n",
    "            pos_words += 1\n",
    "        elif word in negW:\n",
    "            neg_words += 1\n",
    "\n",
    "    if pos_words > neg_words:\n",
    "        return 1\n",
    "    elif pos_words < neg_words:\n",
    "        return -1\n",
    "    elif pos_words == neg_words:\n",
    "        return 0\n",
    "    '''"
   ]
  },
  {
   "cell_type": "code",
   "execution_count": 6,
   "metadata": {
    "collapsed": true
   },
   "outputs": [],
   "source": [
    "def sent_feat(text,rating):\n",
    "    blob = TextBlob(text)\n",
    "    sent=0.0\n",
    "    for sentence in blob.sentences:\n",
    "        sent+=sentence.sentiment.polarity\n",
    "\n",
    "    if sent>0:\n",
    "        r=5-rating\n",
    "    else:\n",
    "        r=rating\n",
    "    return abs(sent)*r"
   ]
  },
  {
   "cell_type": "code",
   "execution_count": 7,
   "metadata": {
    "collapsed": false
   },
   "outputs": [
    {
     "ename": "NameError",
     "evalue": "name 'data' is not defined",
     "output_type": "error",
     "traceback": [
      "\u001b[1;31m---------------------------------------------------------------------------\u001b[0m",
      "\u001b[1;31mNameError\u001b[0m                                 Traceback (most recent call last)",
      "\u001b[1;32m<ipython-input-7-39c02505e7e0>\u001b[0m in \u001b[0;36m<module>\u001b[1;34m()\u001b[0m\n\u001b[0;32m      1\u001b[0m \u001b[0mx\u001b[0m \u001b[1;33m=\u001b[0m \u001b[1;36m1500\u001b[0m\u001b[1;33m\u001b[0m\u001b[0m\n\u001b[1;32m----> 2\u001b[1;33m \u001b[1;32mprint\u001b[0m\u001b[1;33m(\u001b[0m\u001b[0mdemo_liu_hu_lexicon\u001b[0m\u001b[1;33m(\u001b[0m\u001b[0mdata\u001b[0m\u001b[1;33m[\u001b[0m\u001b[1;36m0\u001b[0m\u001b[1;33m]\u001b[0m\u001b[1;33m[\u001b[0m\u001b[1;34m'text'\u001b[0m\u001b[1;33m]\u001b[0m\u001b[1;33m)\u001b[0m\u001b[1;33m)\u001b[0m\u001b[1;33m\u001b[0m\u001b[0m\n\u001b[0m\u001b[0;32m      3\u001b[0m \u001b[1;32mprint\u001b[0m\u001b[1;33m(\u001b[0m\u001b[0msent_feat\u001b[0m\u001b[1;33m(\u001b[0m\u001b[0mdata\u001b[0m\u001b[1;33m[\u001b[0m\u001b[0mx\u001b[0m\u001b[1;33m]\u001b[0m\u001b[1;33m[\u001b[0m\u001b[1;34m'text'\u001b[0m\u001b[1;33m]\u001b[0m\u001b[1;33m,\u001b[0m \u001b[0mdata\u001b[0m\u001b[1;33m[\u001b[0m\u001b[0mx\u001b[0m\u001b[1;33m]\u001b[0m\u001b[1;33m[\u001b[0m\u001b[1;34m'stars'\u001b[0m\u001b[1;33m]\u001b[0m\u001b[1;33m)\u001b[0m\u001b[1;33m)\u001b[0m\u001b[1;33m\u001b[0m\u001b[0m\n",
      "\u001b[1;31mNameError\u001b[0m: name 'data' is not defined"
     ]
    }
   ],
   "source": [
    "x = 1500\n",
    "print(demo_liu_hu_lexicon(data[0]['text']))\n",
    "print(sent_feat(data[x]['text'], data[x]['stars']))"
   ]
  },
  {
   "cell_type": "code",
   "execution_count": 30,
   "metadata": {
    "collapsed": false
   },
   "outputs": [
    {
     "name": "stdout",
     "output_type": "stream",
     "text": [
      "10000\n",
      "20000\n",
      "30000\n",
      "40000\n",
      "50000\n",
      "60000\n",
      "70000\n",
      "80000\n",
      "90000\n",
      "100000\n"
     ]
    }
   ],
   "source": [
    "sent_nltk = defaultdict(float)\n",
    "sent_tb = defaultdict(float)\n",
    "sent_nltk_sum = defaultdict(float)\n",
    "sent_tb_sum = defaultdict(float)\n",
    "\n",
    "iter = 0\n",
    "for d in data:\n",
    "    iter += 1\n",
    "    if iter % 10000 == 0:\n",
    "        print (iter)\n",
    "    #print iter\n",
    "    sent_nltk_sum[(d['review_id'], d['user_id'])] = demo_liu_hu_lexicon(d['text'])\n",
    "    sent_nltk[(d['review_id'], d['user_id'])] = demo_liu_hu_lexicon(d['text'])\n",
    "    sent_tb[(d['review_id'], d['user_id'])] = sent_feat(d['text'], d['stars'])\n",
    "    sent_tb_sum[(d['review_id'], d['user_id'])] = sent_feat(d['text'], d['stars'])"
   ]
  },
  {
   "cell_type": "code",
   "execution_count": null,
   "metadata": {
    "collapsed": true
   },
   "outputs": [],
   "source": []
  }
 ],
 "metadata": {
  "kernelspec": {
   "display_name": "Python [Root]",
   "language": "python",
   "name": "Python [Root]"
  },
  "language_info": {
   "codemirror_mode": {
    "name": "ipython",
    "version": 2
   },
   "file_extension": ".py",
   "mimetype": "text/x-python",
   "name": "python",
   "nbconvert_exporter": "python",
   "pygments_lexer": "ipython2",
   "version": "2.7.12"
  }
 },
 "nbformat": 4,
 "nbformat_minor": 2
}
